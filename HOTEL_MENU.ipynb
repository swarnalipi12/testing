{
 "cells": [
  {
   "cell_type": "markdown",
   "id": "a7976a7e-5efe-4d47-894c-e354e42c6f98",
   "metadata": {},
   "source": [
    "# 🍽️ Restaurant Ordering System\n",
    "\n",
    "This is a simple restaurant ordering system where you can select items from the menu and calculate the total bill. Built with Python for practice purposes.\n"
   ]
  },
  {
   "cell_type": "code",
   "execution_count": 17,
   "id": "a4ded9b8-4767-4bd5-9cf6-06befdb18f1c",
   "metadata": {},
   "outputs": [
    {
     "data": {
      "text/plain": [
       "'Welcome to our restaurant!'"
      ]
     },
     "execution_count": 17,
     "metadata": {},
     "output_type": "execute_result"
    }
   ],
   "source": [
    "# 🍕 Define the menu of the restaurant\n",
    "menu = {\n",
    "    \"pizza\": 40,\n",
    "    \"pasta\": 50,\n",
    "    \"burger\": 60,\n",
    "    \"salad\": 70,\n",
    "    \"coffee\": 20\n",
    "}\n",
    "\n",
    "# Greet the customer\n",
    "\"Welcome to our restaurant!\"\n"
   ]
  },
  {
   "cell_type": "markdown",
   "id": "2d2cb629-bb0f-4274-b59d-7863f628a457",
   "metadata": {},
   "source": [
    "## 📜 Menu\n",
    "Here is the menu with item names and their prices.\n"
   ]
  },
  {
   "cell_type": "code",
   "execution_count": 18,
   "id": "a8c0852d-a08d-4d2b-ad5d-b68364bc8677",
   "metadata": {},
   "outputs": [
    {
     "data": {
      "text/plain": [
       "{'pizza': 40, 'pasta': 50, 'burger': 60, 'salad': 70, 'coffee': 20}"
      ]
     },
     "execution_count": 18,
     "metadata": {},
     "output_type": "execute_result"
    }
   ],
   "source": [
    "menu  # Display the menu directly\n"
   ]
  },
  {
   "cell_type": "markdown",
   "id": "83004f50-c932-46d1-86d9-dcb1698a0244",
   "metadata": {},
   "source": [
    "## 🛒 Take Your First Order\n",
    "Enter the name of the first item you want to order.\n"
   ]
  },
  {
   "cell_type": "code",
   "execution_count": 19,
   "id": "794234a5-5a89-4645-97ec-4bceba6e132a",
   "metadata": {
    "scrolled": true
   },
   "outputs": [
    {
     "name": "stdin",
     "output_type": "stream",
     "text": [
      "Enter the name of the item you want to order:  \"pasta\"\n"
     ]
    },
    {
     "data": {
      "text/plain": [
       "'Sorry, the item \\'\"pasta\"\\' is not available.'"
      ]
     },
     "execution_count": 19,
     "metadata": {},
     "output_type": "execute_result"
    }
   ],
   "source": [
    "order_total = 0\n",
    "\n",
    "# Take first item input\n",
    "item_1 = input(\"Enter the name of the item you want to order: \").lower()\n",
    "\n",
    "# Check if item is available\n",
    "result_1 = (\n",
    "    f\"Your item '{item_1}' has been added to your order.\"\n",
    "    if item_1 in menu\n",
    "    else f\"Sorry, the item '{item_1}' is not available.\"\n",
    ")\n",
    "\n",
    "# Add price if valid\n",
    "order_total += menu.get(item_1, 0)\n",
    "\n",
    "result_1\n"
   ]
  },
  {
   "cell_type": "markdown",
   "id": "7cca00b5-93f3-4f7b-beb3-30ab0e53fa8e",
   "metadata": {},
   "source": [
    "## ➕ Do You Want to Add Another Item?\n",
    "You can choose to add one more item if you wish.\n"
   ]
  },
  {
   "cell_type": "code",
   "execution_count": 20,
   "id": "ca778f25-b0e2-4dce-8dba-599b928def70",
   "metadata": {},
   "outputs": [
    {
     "name": "stdin",
     "output_type": "stream",
     "text": [
      "Do you want to add another item? (yes/no):  no\n"
     ]
    }
   ],
   "source": [
    "# Ask for another item\n",
    "another_order = input(\"Do you want to add another item? (yes/no): \").lower()\n",
    "\n",
    "if another_order == \"yes\":\n",
    "    item_2 = input(\"Enter the name of the second item: \").lower()\n",
    "    if item_2 in menu:\n",
    "        order_total += menu[item_2]\n",
    "        result_2 = f\"Item '{item_2}' has been added to your order.\"\n",
    "    else:\n",
    "        result_2 = f\"Sorry, the item '{item_2}' is not available.\"\n",
    "    result_2\n",
    "else:\n",
    "    \"No additional items added.\"\n"
   ]
  },
  {
   "cell_type": "markdown",
   "id": "7bf29bbf-debd-457b-8f95-82f6f485c62b",
   "metadata": {},
   "source": [
    "## Your Bill\n",
    "Here is your total amount to pay.\n"
   ]
  }
 ],
 "metadata": {
  "kernelspec": {
   "display_name": "Python 3 (ipykernel)",
   "language": "python",
   "name": "python3"
  },
  "language_info": {
   "codemirror_mode": {
    "name": "ipython",
    "version": 3
   },
   "file_extension": ".py",
   "mimetype": "text/x-python",
   "name": "python",
   "nbconvert_exporter": "python",
   "pygments_lexer": "ipython3",
   "version": "3.13.3"
  }
 },
 "nbformat": 4,
 "nbformat_minor": 5
}
